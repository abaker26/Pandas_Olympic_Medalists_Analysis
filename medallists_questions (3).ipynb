{
 "cells": [
  {
   "cell_type": "markdown",
   "id": "91897254-5948-40f3-9e91-f60161871296",
   "metadata": {},
   "source": [
    "# 2024 Olymptic Medelist Dataset"
   ]
  },
  {
   "cell_type": "code",
   "execution_count": 1,
   "id": "f38f94d7",
   "metadata": {},
   "outputs": [],
   "source": [
    "import pandas as pd"
   ]
  },
  {
   "cell_type": "code",
   "execution_count": 2,
   "id": "6ffab22d",
   "metadata": {},
   "outputs": [
    {
     "data": {
      "text/html": [
       "<div>\n",
       "<style scoped>\n",
       "    .dataframe tbody tr th:only-of-type {\n",
       "        vertical-align: middle;\n",
       "    }\n",
       "\n",
       "    .dataframe tbody tr th {\n",
       "        vertical-align: top;\n",
       "    }\n",
       "\n",
       "    .dataframe thead th {\n",
       "        text-align: right;\n",
       "    }\n",
       "</style>\n",
       "<table border=\"1\" class=\"dataframe\">\n",
       "  <thead>\n",
       "    <tr style=\"text-align: right;\">\n",
       "      <th></th>\n",
       "      <th>medal_date</th>\n",
       "      <th>medal_type</th>\n",
       "      <th>medal_code</th>\n",
       "      <th>name</th>\n",
       "      <th>gender</th>\n",
       "      <th>country_code</th>\n",
       "      <th>country</th>\n",
       "      <th>country_long</th>\n",
       "      <th>nationality_code</th>\n",
       "      <th>nationality</th>\n",
       "      <th>...</th>\n",
       "      <th>team</th>\n",
       "      <th>team_gender</th>\n",
       "      <th>discipline</th>\n",
       "      <th>event</th>\n",
       "      <th>event_type</th>\n",
       "      <th>url_event</th>\n",
       "      <th>birth_date</th>\n",
       "      <th>code_athlete</th>\n",
       "      <th>code_team</th>\n",
       "      <th>is_medallist</th>\n",
       "    </tr>\n",
       "  </thead>\n",
       "  <tbody>\n",
       "    <tr>\n",
       "      <th>0</th>\n",
       "      <td>7/27/2024</td>\n",
       "      <td>Gold Medal</td>\n",
       "      <td>1.0</td>\n",
       "      <td>EVENEPOEL Remco</td>\n",
       "      <td>Male</td>\n",
       "      <td>BEL</td>\n",
       "      <td>Belgium</td>\n",
       "      <td>Belgium</td>\n",
       "      <td>BEL</td>\n",
       "      <td>Belgium</td>\n",
       "      <td>...</td>\n",
       "      <td>NaN</td>\n",
       "      <td>NaN</td>\n",
       "      <td>Cycling Road</td>\n",
       "      <td>Men's Individual Time Trial</td>\n",
       "      <td>ATH</td>\n",
       "      <td>/en/paris-2024/results/cycling-road/men-s-indi...</td>\n",
       "      <td>1/25/2000</td>\n",
       "      <td>1903136</td>\n",
       "      <td>NaN</td>\n",
       "      <td>True</td>\n",
       "    </tr>\n",
       "    <tr>\n",
       "      <th>1</th>\n",
       "      <td>7/27/2024</td>\n",
       "      <td>Silver Medal</td>\n",
       "      <td>2.0</td>\n",
       "      <td>GANNA Filippo</td>\n",
       "      <td>Male</td>\n",
       "      <td>ITA</td>\n",
       "      <td>Italy</td>\n",
       "      <td>Italy</td>\n",
       "      <td>ITA</td>\n",
       "      <td>Italy</td>\n",
       "      <td>...</td>\n",
       "      <td>NaN</td>\n",
       "      <td>NaN</td>\n",
       "      <td>Cycling Road</td>\n",
       "      <td>Men's Individual Time Trial</td>\n",
       "      <td>ATH</td>\n",
       "      <td>/en/paris-2024/results/cycling-road/men-s-indi...</td>\n",
       "      <td>7/25/1996</td>\n",
       "      <td>1923520</td>\n",
       "      <td>NaN</td>\n",
       "      <td>True</td>\n",
       "    </tr>\n",
       "    <tr>\n",
       "      <th>2</th>\n",
       "      <td>7/27/2024</td>\n",
       "      <td>Bronze Medal</td>\n",
       "      <td>3.0</td>\n",
       "      <td>van AERT Wout</td>\n",
       "      <td>Male</td>\n",
       "      <td>BEL</td>\n",
       "      <td>Belgium</td>\n",
       "      <td>Belgium</td>\n",
       "      <td>BEL</td>\n",
       "      <td>Belgium</td>\n",
       "      <td>...</td>\n",
       "      <td>NaN</td>\n",
       "      <td>NaN</td>\n",
       "      <td>Cycling Road</td>\n",
       "      <td>Men's Individual Time Trial</td>\n",
       "      <td>ATH</td>\n",
       "      <td>/en/paris-2024/results/cycling-road/men-s-indi...</td>\n",
       "      <td>9/15/1994</td>\n",
       "      <td>1903147</td>\n",
       "      <td>NaN</td>\n",
       "      <td>True</td>\n",
       "    </tr>\n",
       "    <tr>\n",
       "      <th>3</th>\n",
       "      <td>7/27/2024</td>\n",
       "      <td>Gold Medal</td>\n",
       "      <td>1.0</td>\n",
       "      <td>BROWN Grace</td>\n",
       "      <td>Female</td>\n",
       "      <td>AUS</td>\n",
       "      <td>Australia</td>\n",
       "      <td>Australia</td>\n",
       "      <td>AUS</td>\n",
       "      <td>Australia</td>\n",
       "      <td>...</td>\n",
       "      <td>NaN</td>\n",
       "      <td>NaN</td>\n",
       "      <td>Cycling Road</td>\n",
       "      <td>Women's Individual Time Trial</td>\n",
       "      <td>ATH</td>\n",
       "      <td>/en/paris-2024/results/cycling-road/women-s-in...</td>\n",
       "      <td>7/7/1992</td>\n",
       "      <td>1940173</td>\n",
       "      <td>NaN</td>\n",
       "      <td>True</td>\n",
       "    </tr>\n",
       "    <tr>\n",
       "      <th>4</th>\n",
       "      <td>7/27/2024</td>\n",
       "      <td>Silver Medal</td>\n",
       "      <td>2.0</td>\n",
       "      <td>HENDERSON Anna</td>\n",
       "      <td>Female</td>\n",
       "      <td>GBR</td>\n",
       "      <td>Great Britain</td>\n",
       "      <td>Great Britain</td>\n",
       "      <td>GBR</td>\n",
       "      <td>Great Britain</td>\n",
       "      <td>...</td>\n",
       "      <td>NaN</td>\n",
       "      <td>NaN</td>\n",
       "      <td>Cycling Road</td>\n",
       "      <td>Women's Individual Time Trial</td>\n",
       "      <td>ATH</td>\n",
       "      <td>/en/paris-2024/results/cycling-road/women-s-in...</td>\n",
       "      <td>11/14/1998</td>\n",
       "      <td>1912525</td>\n",
       "      <td>NaN</td>\n",
       "      <td>True</td>\n",
       "    </tr>\n",
       "  </tbody>\n",
       "</table>\n",
       "<p>5 rows × 21 columns</p>\n",
       "</div>"
      ],
      "text/plain": [
       "  medal_date    medal_type  medal_code             name  gender country_code  \\\n",
       "0  7/27/2024    Gold Medal         1.0  EVENEPOEL Remco    Male          BEL   \n",
       "1  7/27/2024  Silver Medal         2.0    GANNA Filippo    Male          ITA   \n",
       "2  7/27/2024  Bronze Medal         3.0    van AERT Wout    Male          BEL   \n",
       "3  7/27/2024    Gold Medal         1.0      BROWN Grace  Female          AUS   \n",
       "4  7/27/2024  Silver Medal         2.0   HENDERSON Anna  Female          GBR   \n",
       "\n",
       "         country   country_long nationality_code    nationality  ... team  \\\n",
       "0        Belgium        Belgium              BEL        Belgium  ...  NaN   \n",
       "1          Italy          Italy              ITA          Italy  ...  NaN   \n",
       "2        Belgium        Belgium              BEL        Belgium  ...  NaN   \n",
       "3      Australia      Australia              AUS      Australia  ...  NaN   \n",
       "4  Great Britain  Great Britain              GBR  Great Britain  ...  NaN   \n",
       "\n",
       "  team_gender    discipline                          event event_type  \\\n",
       "0         NaN  Cycling Road    Men's Individual Time Trial        ATH   \n",
       "1         NaN  Cycling Road    Men's Individual Time Trial        ATH   \n",
       "2         NaN  Cycling Road    Men's Individual Time Trial        ATH   \n",
       "3         NaN  Cycling Road  Women's Individual Time Trial        ATH   \n",
       "4         NaN  Cycling Road  Women's Individual Time Trial        ATH   \n",
       "\n",
       "                                           url_event  birth_date code_athlete  \\\n",
       "0  /en/paris-2024/results/cycling-road/men-s-indi...   1/25/2000      1903136   \n",
       "1  /en/paris-2024/results/cycling-road/men-s-indi...   7/25/1996      1923520   \n",
       "2  /en/paris-2024/results/cycling-road/men-s-indi...   9/15/1994      1903147   \n",
       "3  /en/paris-2024/results/cycling-road/women-s-in...    7/7/1992      1940173   \n",
       "4  /en/paris-2024/results/cycling-road/women-s-in...  11/14/1998      1912525   \n",
       "\n",
       "   code_team is_medallist  \n",
       "0        NaN         True  \n",
       "1        NaN         True  \n",
       "2        NaN         True  \n",
       "3        NaN         True  \n",
       "4        NaN         True  \n",
       "\n",
       "[5 rows x 21 columns]"
      ]
     },
     "execution_count": 2,
     "metadata": {},
     "output_type": "execute_result"
    }
   ],
   "source": [
    "data=pd.read_csv(\"med.csv\")\n",
    "data.head()"
   ]
  },
  {
   "cell_type": "code",
   "execution_count": 3,
   "id": "073f1702",
   "metadata": {},
   "outputs": [
    {
     "name": "stdout",
     "output_type": "stream",
     "text": [
      "<class 'pandas.core.frame.DataFrame'>\n",
      "RangeIndex: 2315 entries, 0 to 2314\n",
      "Data columns (total 21 columns):\n",
      " #   Column            Non-Null Count  Dtype  \n",
      "---  ------            --------------  -----  \n",
      " 0   medal_date        2315 non-null   object \n",
      " 1   medal_type        2315 non-null   object \n",
      " 2   medal_code        2314 non-null   float64\n",
      " 3   name              2315 non-null   object \n",
      " 4   gender            2315 non-null   object \n",
      " 5   country_code      2315 non-null   object \n",
      " 6   country           2315 non-null   object \n",
      " 7   country_long      2315 non-null   object \n",
      " 8   nationality_code  2314 non-null   object \n",
      " 9   nationality       2314 non-null   object \n",
      " 10  nationality_long  2314 non-null   object \n",
      " 11  team              1555 non-null   object \n",
      " 12  team_gender       1555 non-null   object \n",
      " 13  discipline        2315 non-null   object \n",
      " 14  event             2315 non-null   object \n",
      " 15  event_type        2315 non-null   object \n",
      " 16  url_event         2294 non-null   object \n",
      " 17  birth_date        2315 non-null   object \n",
      " 18  code_athlete      2315 non-null   int64  \n",
      " 19  code_team         1555 non-null   object \n",
      " 20  is_medallist      2315 non-null   bool   \n",
      "dtypes: bool(1), float64(1), int64(1), object(18)\n",
      "memory usage: 364.1+ KB\n"
     ]
    }
   ],
   "source": [
    "data.info()"
   ]
  },
  {
   "cell_type": "markdown",
   "id": "865bc8c9",
   "metadata": {},
   "source": [
    "## 1. How many unique countries are represented in the dataset?\n",
    "*Hint: Use the `unique()` or `nunique()` function on the `country` or `country_long` column.*"
   ]
  },
  {
   "cell_type": "code",
   "execution_count": 4,
   "id": "031ad9e9",
   "metadata": {},
   "outputs": [
    {
     "data": {
      "text/plain": [
       "Index(['medal_date', 'medal_type', 'medal_code', 'name', 'gender',\n",
       "       'country_code', 'country', 'country_long', 'nationality_code',\n",
       "       'nationality', 'nationality_long', 'team', 'team_gender', 'discipline',\n",
       "       'event', 'event_type', 'url_event', 'birth_date', 'code_athlete',\n",
       "       'code_team', 'is_medallist'],\n",
       "      dtype='object')"
      ]
     },
     "execution_count": 4,
     "metadata": {},
     "output_type": "execute_result"
    }
   ],
   "source": [
    "# Your code here\n",
    "data.columns"
   ]
  },
  {
   "cell_type": "code",
   "execution_count": 5,
   "id": "6805e761",
   "metadata": {},
   "outputs": [
    {
     "data": {
      "text/plain": [
       "array(['Belgium', 'Italy', 'Australia', 'Great Britain', 'United States',\n",
       "       'Korea', 'Tunisia', 'Hong Kong, China', 'France', 'Hungary',\n",
       "       'Kazakhstan', 'Japan', 'Spain', 'Mongolia', 'Sweden', 'Germany',\n",
       "       'Canada', 'Poland', 'Egypt', 'Brazil', 'Republic of Moldova',\n",
       "       'Uzbekistan', 'Kosovo', 'China', 'India', 'Slovakia',\n",
       "       'South Africa', 'Ukraine', 'Azerbaijan', 'Croatia', 'Switzerland',\n",
       "       'Romania', 'Ireland', 'Georgia', 'Tajikistan', 'Slovenia',\n",
       "       'Mexico', 'Guatemala', 'Argentina', 'Greece', 'Austria',\n",
       "       'Netherlands', 'New Zealand', 'Ecuador', 'Israel', 'Portugal',\n",
       "       'Uganda', 'Ethiopia', 'AIN', 'Philippines', 'Norway', 'Grenada',\n",
       "       'Jamaica', 'Saint Lucia', 'Dominica', 'Chinese Taipei',\n",
       "       'Lithuania', 'Armenia', 'Algeria', 'Indonesia',\n",
       "       'Dominican Republic', 'Cabo Verde', 'Cuba', 'DPR Korea', 'Chile',\n",
       "       'Serbia', 'Colombia', 'Kenya', 'Denmark', 'Thailand', 'Malaysia',\n",
       "       'Bahrain', 'IR Iran', 'Kyrgyzstan', 'Türkiye', 'Morocco', 'Zambia',\n",
       "       'Cyprus', 'Peru', 'Botswana', 'Pakistan', 'Bulgaria', 'EOR',\n",
       "       'Jordan', 'Czechia', 'Singapore', 'Qatar', 'Puerto Rico', 'Panama',\n",
       "       \"Côte d'Ivoire\", 'Albania', 'Fiji'], dtype=object)"
      ]
     },
     "execution_count": 5,
     "metadata": {},
     "output_type": "execute_result"
    }
   ],
   "source": [
    "data['country'].unique()"
   ]
  },
  {
   "cell_type": "code",
   "execution_count": 6,
   "id": "0ee7d616",
   "metadata": {},
   "outputs": [
    {
     "data": {
      "text/plain": [
       "92"
      ]
     },
     "execution_count": 6,
     "metadata": {},
     "output_type": "execute_result"
    }
   ],
   "source": [
    "len(data['country'].unique())"
   ]
  },
  {
   "cell_type": "markdown",
   "id": "a78566bb",
   "metadata": {},
   "source": [
    "## 2. Which event had the most medalists?\n",
    "*Hint: Use `value_counts()` on the `event` column to determine the event with the highest number of medalists.*"
   ]
  },
  {
   "cell_type": "code",
   "execution_count": 7,
   "id": "57b2aee6",
   "metadata": {},
   "outputs": [
    {
     "data": {
      "text/plain": [
       "'Men'"
      ]
     },
     "execution_count": 7,
     "metadata": {},
     "output_type": "execute_result"
    }
   ],
   "source": [
    "# Your code here\n",
    "data['event'].value_counts().idxmax()"
   ]
  },
  {
   "cell_type": "markdown",
   "id": "4c26c537",
   "metadata": {},
   "source": [
    "## 3. What is the gender distribution of the medalists?\n",
    "*Hint: Use `value_counts()` on the `gender` column.*"
   ]
  },
  {
   "cell_type": "code",
   "execution_count": 8,
   "id": "2c52e18a",
   "metadata": {},
   "outputs": [
    {
     "data": {
      "text/plain": [
       "gender\n",
       "Female    1162\n",
       "Male      1153\n",
       "Name: count, dtype: int64"
      ]
     },
     "execution_count": 8,
     "metadata": {},
     "output_type": "execute_result"
    }
   ],
   "source": [
    "# Your code here\n",
    "data['gender'].value_counts()"
   ]
  },
  {
   "cell_type": "markdown",
   "id": "94d04b5b",
   "metadata": {},
   "source": [
    "## 4. How many athletes from Belgium won medals?\n",
    "*Hint: Filter on the `country_code` column with `BEL` and check the number of rows.*"
   ]
  },
  {
   "cell_type": "code",
   "execution_count": 9,
   "id": "80efb9eb",
   "metadata": {},
   "outputs": [
    {
     "data": {
      "text/html": [
       "<div>\n",
       "<style scoped>\n",
       "    .dataframe tbody tr th:only-of-type {\n",
       "        vertical-align: middle;\n",
       "    }\n",
       "\n",
       "    .dataframe tbody tr th {\n",
       "        vertical-align: top;\n",
       "    }\n",
       "\n",
       "    .dataframe thead th {\n",
       "        text-align: right;\n",
       "    }\n",
       "</style>\n",
       "<table border=\"1\" class=\"dataframe\">\n",
       "  <thead>\n",
       "    <tr style=\"text-align: right;\">\n",
       "      <th></th>\n",
       "      <th>medal_date</th>\n",
       "      <th>medal_type</th>\n",
       "      <th>medal_code</th>\n",
       "      <th>name</th>\n",
       "      <th>gender</th>\n",
       "      <th>country_code</th>\n",
       "      <th>country</th>\n",
       "      <th>country_long</th>\n",
       "      <th>nationality_code</th>\n",
       "      <th>nationality</th>\n",
       "      <th>...</th>\n",
       "      <th>team</th>\n",
       "      <th>team_gender</th>\n",
       "      <th>discipline</th>\n",
       "      <th>event</th>\n",
       "      <th>event_type</th>\n",
       "      <th>url_event</th>\n",
       "      <th>birth_date</th>\n",
       "      <th>code_athlete</th>\n",
       "      <th>code_team</th>\n",
       "      <th>is_medallist</th>\n",
       "    </tr>\n",
       "  </thead>\n",
       "  <tbody>\n",
       "    <tr>\n",
       "      <th>1024</th>\n",
       "      <td>7/31/2024</td>\n",
       "      <td>Gold Medal</td>\n",
       "      <td>1.0</td>\n",
       "      <td>SCOTT Hannah</td>\n",
       "      <td>Female</td>\n",
       "      <td>GBR</td>\n",
       "      <td>Great Britain</td>\n",
       "      <td>Great Britain</td>\n",
       "      <td>GBR</td>\n",
       "      <td>Great Britain</td>\n",
       "      <td>...</td>\n",
       "      <td>Great Britain</td>\n",
       "      <td>W</td>\n",
       "      <td>Rowing</td>\n",
       "      <td>Women's Quadruple Sculls</td>\n",
       "      <td>TEAM</td>\n",
       "      <td>/en/paris-2024/results/rowing/women-s-quadrupl...</td>\n",
       "      <td>6/18/1999</td>\n",
       "      <td>1901091</td>\n",
       "      <td>ROWWSCULL4--GBR01</td>\n",
       "      <td>True</td>\n",
       "    </tr>\n",
       "  </tbody>\n",
       "</table>\n",
       "<p>1 rows × 21 columns</p>\n",
       "</div>"
      ],
      "text/plain": [
       "     medal_date  medal_type  medal_code          name  gender country_code  \\\n",
       "1024  7/31/2024  Gold Medal         1.0  SCOTT Hannah  Female          GBR   \n",
       "\n",
       "            country   country_long nationality_code    nationality  ...  \\\n",
       "1024  Great Britain  Great Britain              GBR  Great Britain  ...   \n",
       "\n",
       "               team team_gender discipline                     event  \\\n",
       "1024  Great Britain           W     Rowing  Women's Quadruple Sculls   \n",
       "\n",
       "     event_type                                          url_event birth_date  \\\n",
       "1024       TEAM  /en/paris-2024/results/rowing/women-s-quadrupl...  6/18/1999   \n",
       "\n",
       "     code_athlete          code_team is_medallist  \n",
       "1024      1901091  ROWWSCULL4--GBR01         True  \n",
       "\n",
       "[1 rows x 21 columns]"
      ]
     },
     "execution_count": 9,
     "metadata": {},
     "output_type": "execute_result"
    }
   ],
   "source": [
    "# Your code here\n",
    "data.sample()"
   ]
  },
  {
   "cell_type": "code",
   "execution_count": 10,
   "id": "5b46215b",
   "metadata": {},
   "outputs": [
    {
     "name": "stdout",
     "output_type": "stream",
     "text": [
      "<class 'pandas.core.frame.DataFrame'>\n",
      "Index: 10 entries, 0 to 759\n",
      "Data columns (total 21 columns):\n",
      " #   Column            Non-Null Count  Dtype  \n",
      "---  ------            --------------  -----  \n",
      " 0   medal_date        10 non-null     object \n",
      " 1   medal_type        10 non-null     object \n",
      " 2   medal_code        10 non-null     float64\n",
      " 3   name              10 non-null     object \n",
      " 4   gender            10 non-null     object \n",
      " 5   country_code      10 non-null     object \n",
      " 6   country           10 non-null     object \n",
      " 7   country_long      10 non-null     object \n",
      " 8   nationality_code  10 non-null     object \n",
      " 9   nationality       10 non-null     object \n",
      " 10  nationality_long  10 non-null     object \n",
      " 11  team              0 non-null      object \n",
      " 12  team_gender       0 non-null      object \n",
      " 13  discipline        10 non-null     object \n",
      " 14  event             10 non-null     object \n",
      " 15  event_type        10 non-null     object \n",
      " 16  url_event         8 non-null      object \n",
      " 17  birth_date        10 non-null     object \n",
      " 18  code_athlete      10 non-null     int64  \n",
      " 19  code_team         0 non-null      object \n",
      " 20  is_medallist      10 non-null     bool   \n",
      "dtypes: bool(1), float64(1), int64(1), object(18)\n",
      "memory usage: 1.7+ KB\n"
     ]
    }
   ],
   "source": [
    "data_bel=data[data.country_code==\"BEL\"]\n",
    "data_bel.info()"
   ]
  },
  {
   "cell_type": "markdown",
   "id": "9cf977b1",
   "metadata": {},
   "source": [
    "## 5. What is the average age of gold medalists?\n",
    "*Hint: Filter for `Gold Medal` in the `medal_type` column, and calculate the difference between `medal_date` and `birth_date`.*"
   ]
  },
  {
   "cell_type": "code",
   "execution_count": 11,
   "id": "d29d7a44",
   "metadata": {},
   "outputs": [
    {
     "name": "stdout",
     "output_type": "stream",
     "text": [
      "<class 'pandas.core.frame.DataFrame'>\n",
      "Index: 752 entries, 0 to 2304\n",
      "Data columns (total 21 columns):\n",
      " #   Column            Non-Null Count  Dtype         \n",
      "---  ------            --------------  -----         \n",
      " 0   medal_date        752 non-null    datetime64[ns]\n",
      " 1   medal_type        752 non-null    object        \n",
      " 2   medal_code        752 non-null    float64       \n",
      " 3   name              752 non-null    object        \n",
      " 4   gender            752 non-null    object        \n",
      " 5   country_code      752 non-null    object        \n",
      " 6   country           752 non-null    object        \n",
      " 7   country_long      752 non-null    object        \n",
      " 8   nationality_code  751 non-null    object        \n",
      " 9   nationality       751 non-null    object        \n",
      " 10  nationality_long  751 non-null    object        \n",
      " 11  team              517 non-null    object        \n",
      " 12  team_gender       517 non-null    object        \n",
      " 13  discipline        752 non-null    object        \n",
      " 14  event             752 non-null    object        \n",
      " 15  event_type        752 non-null    object        \n",
      " 16  url_event         745 non-null    object        \n",
      " 17  birth_date        752 non-null    datetime64[ns]\n",
      " 18  code_athlete      752 non-null    int64         \n",
      " 19  code_team         517 non-null    object        \n",
      " 20  is_medallist      752 non-null    bool          \n",
      "dtypes: bool(1), datetime64[ns](2), float64(1), int64(1), object(16)\n",
      "memory usage: 124.1+ KB\n"
     ]
    },
    {
     "name": "stderr",
     "output_type": "stream",
     "text": [
      "C:\\Users\\APBaker\\AppData\\Local\\Temp\\ipykernel_13716\\2819598083.py:8: SettingWithCopyWarning: \n",
      "A value is trying to be set on a copy of a slice from a DataFrame.\n",
      "Try using .loc[row_indexer,col_indexer] = value instead\n",
      "\n",
      "See the caveats in the documentation: https://pandas.pydata.org/pandas-docs/stable/user_guide/indexing.html#returning-a-view-versus-a-copy\n",
      "  data_new['medal_date']=pd.to_datetime(data_new[\"medal_date\"], format=\"mixed\")\n",
      "C:\\Users\\APBaker\\AppData\\Local\\Temp\\ipykernel_13716\\2819598083.py:9: SettingWithCopyWarning: \n",
      "A value is trying to be set on a copy of a slice from a DataFrame.\n",
      "Try using .loc[row_indexer,col_indexer] = value instead\n",
      "\n",
      "See the caveats in the documentation: https://pandas.pydata.org/pandas-docs/stable/user_guide/indexing.html#returning-a-view-versus-a-copy\n",
      "  data_new['birth_date']=pd.to_datetime(data_new[\"birth_date\"], format=\"mixed\")\n"
     ]
    }
   ],
   "source": [
    "# Your code here\n",
    "\n",
    "data_new=data[(data.medal_type==\"Gold Medal\")]\n",
    "data_new\n",
    "\n",
    "pd.to_datetime(data_new[\"medal_date\"], format=\"mixed\")\n",
    "\n",
    "data_new['medal_date']=pd.to_datetime(data_new[\"medal_date\"], format=\"mixed\")\n",
    "data_new['birth_date']=pd.to_datetime(data_new[\"birth_date\"], format=\"mixed\")\n",
    "\n",
    "data_new.info()"
   ]
  },
  {
   "cell_type": "code",
   "execution_count": 12,
   "id": "3e5f6a05",
   "metadata": {},
   "outputs": [
    {
     "data": {
      "text/plain": [
       "26.993351063829788"
      ]
     },
     "execution_count": 12,
     "metadata": {},
     "output_type": "execute_result"
    }
   ],
   "source": [
    "age_difference=data_new['medal_date'].dt.year-data_new['birth_date'].dt.year\n",
    "age_difference.mean()"
   ]
  },
  {
   "cell_type": "markdown",
   "id": "026d88a6",
   "metadata": {},
   "source": [
    "## 6. List the names of all athletes who won a silver medal in a cycling event.\n",
    "*Hint: Filter by `medal_type` (Silver) and `discipline` (Cycling Road), then display the `name` column.*"
   ]
  },
  {
   "cell_type": "code",
   "execution_count": 13,
   "id": "215ab6f4",
   "metadata": {},
   "outputs": [
    {
     "data": {
      "text/plain": [
       "1         GANNA Filippo\n",
       "4        HENDERSON Anna\n",
       "267    MADOUAS Valentin\n",
       "336        VOS Marianne\n",
       "Name: name, dtype: object"
      ]
     },
     "execution_count": 13,
     "metadata": {},
     "output_type": "execute_result"
    }
   ],
   "source": [
    "# Your code here\n",
    "data_nw=data[(data['medal_type']==\"Silver Medal\") & (data['discipline']==\"Cycling Road\")]\n",
    "data_nw['name']"
   ]
  },
  {
   "cell_type": "markdown",
   "id": "49ee100b",
   "metadata": {},
   "source": [
    "## 7. How many events did female athletes participate in?\n",
    "*Hint: Filter on `gender` (Female) and count the unique values in the `event` column.*"
   ]
  },
  {
   "cell_type": "code",
   "execution_count": 14,
   "id": "2d092dd5",
   "metadata": {},
   "outputs": [
    {
     "name": "stdout",
     "output_type": "stream",
     "text": [
      "<class 'pandas.core.frame.DataFrame'>\n",
      "RangeIndex: 2315 entries, 0 to 2314\n",
      "Data columns (total 21 columns):\n",
      " #   Column            Non-Null Count  Dtype  \n",
      "---  ------            --------------  -----  \n",
      " 0   medal_date        2315 non-null   object \n",
      " 1   medal_type        2315 non-null   object \n",
      " 2   medal_code        2314 non-null   float64\n",
      " 3   name              2315 non-null   object \n",
      " 4   gender            2315 non-null   object \n",
      " 5   country_code      2315 non-null   object \n",
      " 6   country           2315 non-null   object \n",
      " 7   country_long      2315 non-null   object \n",
      " 8   nationality_code  2314 non-null   object \n",
      " 9   nationality       2314 non-null   object \n",
      " 10  nationality_long  2314 non-null   object \n",
      " 11  team              1555 non-null   object \n",
      " 12  team_gender       1555 non-null   object \n",
      " 13  discipline        2315 non-null   object \n",
      " 14  event             2315 non-null   object \n",
      " 15  event_type        2315 non-null   object \n",
      " 16  url_event         2294 non-null   object \n",
      " 17  birth_date        2315 non-null   object \n",
      " 18  code_athlete      2315 non-null   int64  \n",
      " 19  code_team         1555 non-null   object \n",
      " 20  is_medallist      2315 non-null   bool   \n",
      "dtypes: bool(1), float64(1), int64(1), object(18)\n",
      "memory usage: 364.1+ KB\n"
     ]
    }
   ],
   "source": [
    "# Your code here\n",
    "data.info()"
   ]
  },
  {
   "cell_type": "code",
   "execution_count": 15,
   "id": "1e182430",
   "metadata": {},
   "outputs": [
    {
     "data": {
      "text/plain": [
       "150"
      ]
     },
     "execution_count": 15,
     "metadata": {},
     "output_type": "execute_result"
    }
   ],
   "source": [
    "data[data['gender'] == 'Female']['event'].nunique()"
   ]
  },
  {
   "cell_type": "markdown",
   "id": "5643d60e",
   "metadata": {},
   "source": [
    "## 8. Which country had the highest number of gold medals?\n",
    "*Hint: Filter for `Gold Medal` in the `medal_type` column and use `value_counts()` on the `country` column.*"
   ]
  },
  {
   "cell_type": "code",
   "execution_count": 16,
   "id": "ed09fc9e",
   "metadata": {},
   "outputs": [
    {
     "data": {
      "text/plain": [
       "'United States'"
      ]
     },
     "execution_count": 16,
     "metadata": {},
     "output_type": "execute_result"
    }
   ],
   "source": [
    "# Your code here\n",
    "data[(data.medal_type==\"Gold Medal\")]\n",
    "data['country'].value_counts().idxmax()"
   ]
  },
  {
   "cell_type": "markdown",
   "id": "f982cb2a",
   "metadata": {},
   "source": [
    "## 9. What are the top three most common disciplines for male athletes?\n",
    "*Hint: Filter by `gender` (Male) and use `value_counts()` on the `discipline` column to get the top three.*"
   ]
  },
  {
   "cell_type": "code",
   "execution_count": 17,
   "id": "3c38804f",
   "metadata": {},
   "outputs": [
    {
     "data": {
      "text/plain": [
       "discipline\n",
       "Athletics    231\n",
       "Swimming     219\n",
       "Rowing       144\n",
       "Name: count, dtype: int64"
      ]
     },
     "execution_count": 17,
     "metadata": {},
     "output_type": "execute_result"
    }
   ],
   "source": [
    "# Your code here\n",
    "data[(data.gender==\"Male\")]\n",
    "data['discipline'].value_counts().head(3)"
   ]
  },
  {
   "cell_type": "markdown",
   "id": "acc430dc",
   "metadata": {},
   "source": [
    "## 10. Find the youngest and oldest medalists in the dataset.\n",
    "*Hint: Calculate the difference between `medal_date` and `birth_date`, then use `min()` and `max()`.*"
   ]
  },
  {
   "cell_type": "code",
   "execution_count": 18,
   "id": "ce31b37a",
   "metadata": {},
   "outputs": [],
   "source": [
    "data['medal_date'] = pd.to_datetime(data['medal_date'])\n",
    "data['birth_date'] = pd.to_datetime(data['birth_date'])\n",
    "\n",
    "data['age'] = data['medal_date'].dt.year - data['birth_date'].dt.year"
   ]
  },
  {
   "cell_type": "code",
   "execution_count": 19,
   "id": "e99e6664",
   "metadata": {},
   "outputs": [
    {
     "data": {
      "text/html": [
       "<div>\n",
       "<style scoped>\n",
       "    .dataframe tbody tr th:only-of-type {\n",
       "        vertical-align: middle;\n",
       "    }\n",
       "\n",
       "    .dataframe tbody tr th {\n",
       "        vertical-align: top;\n",
       "    }\n",
       "\n",
       "    .dataframe thead th {\n",
       "        text-align: right;\n",
       "    }\n",
       "</style>\n",
       "<table border=\"1\" class=\"dataframe\">\n",
       "  <thead>\n",
       "    <tr style=\"text-align: right;\">\n",
       "      <th></th>\n",
       "      <th>medal_date</th>\n",
       "      <th>medal_type</th>\n",
       "      <th>medal_code</th>\n",
       "      <th>name</th>\n",
       "      <th>gender</th>\n",
       "      <th>country_code</th>\n",
       "      <th>country</th>\n",
       "      <th>country_long</th>\n",
       "      <th>nationality_code</th>\n",
       "      <th>nationality</th>\n",
       "      <th>...</th>\n",
       "      <th>team_gender</th>\n",
       "      <th>discipline</th>\n",
       "      <th>event</th>\n",
       "      <th>event_type</th>\n",
       "      <th>url_event</th>\n",
       "      <th>birth_date</th>\n",
       "      <th>code_athlete</th>\n",
       "      <th>code_team</th>\n",
       "      <th>is_medallist</th>\n",
       "      <th>age</th>\n",
       "    </tr>\n",
       "  </thead>\n",
       "  <tbody>\n",
       "    <tr>\n",
       "      <th>2232</th>\n",
       "      <td>2024-08-11</td>\n",
       "      <td>Bronze Medal</td>\n",
       "      <td>3.0</td>\n",
       "      <td>ODRIOZOLA Kauldi</td>\n",
       "      <td>Male</td>\n",
       "      <td>ESP</td>\n",
       "      <td>Spain</td>\n",
       "      <td>Spain</td>\n",
       "      <td>ESP</td>\n",
       "      <td>Spain</td>\n",
       "      <td>...</td>\n",
       "      <td>M</td>\n",
       "      <td>Handball</td>\n",
       "      <td>Men</td>\n",
       "      <td>HTEAM</td>\n",
       "      <td>/en/paris-2024/results/handball/men/fnl-000200--</td>\n",
       "      <td>1997-01-07</td>\n",
       "      <td>1948268</td>\n",
       "      <td>HBLMTEAM7---ESP01</td>\n",
       "      <td>True</td>\n",
       "      <td>27</td>\n",
       "    </tr>\n",
       "  </tbody>\n",
       "</table>\n",
       "<p>1 rows × 22 columns</p>\n",
       "</div>"
      ],
      "text/plain": [
       "     medal_date    medal_type  medal_code              name gender  \\\n",
       "2232 2024-08-11  Bronze Medal         3.0  ODRIOZOLA Kauldi   Male   \n",
       "\n",
       "     country_code country country_long nationality_code nationality  ...  \\\n",
       "2232          ESP   Spain        Spain              ESP       Spain  ...   \n",
       "\n",
       "     team_gender discipline event event_type  \\\n",
       "2232           M   Handball   Men      HTEAM   \n",
       "\n",
       "                                             url_event birth_date  \\\n",
       "2232  /en/paris-2024/results/handball/men/fnl-000200-- 1997-01-07   \n",
       "\n",
       "     code_athlete          code_team  is_medallist age  \n",
       "2232      1948268  HBLMTEAM7---ESP01          True  27  \n",
       "\n",
       "[1 rows x 22 columns]"
      ]
     },
     "execution_count": 19,
     "metadata": {},
     "output_type": "execute_result"
    }
   ],
   "source": [
    "data.sample()"
   ]
  },
  {
   "cell_type": "code",
   "execution_count": 20,
   "id": "a6c6e1d0",
   "metadata": {},
   "outputs": [
    {
     "data": {
      "text/plain": [
       "0       24\n",
       "1       28\n",
       "2       30\n",
       "3       32\n",
       "4       26\n",
       "        ..\n",
       "2310    26\n",
       "2311    24\n",
       "2312    28\n",
       "2313    23\n",
       "2314    22\n",
       "Name: age, Length: 2315, dtype: int32"
      ]
     },
     "execution_count": 20,
     "metadata": {},
     "output_type": "execute_result"
    }
   ],
   "source": [
    "data['age']"
   ]
  },
  {
   "cell_type": "code",
   "execution_count": 21,
   "id": "318a4db9",
   "metadata": {
    "scrolled": true
   },
   "outputs": [
    {
     "data": {
      "text/html": [
       "<div>\n",
       "<style scoped>\n",
       "    .dataframe tbody tr th:only-of-type {\n",
       "        vertical-align: middle;\n",
       "    }\n",
       "\n",
       "    .dataframe tbody tr th {\n",
       "        vertical-align: top;\n",
       "    }\n",
       "\n",
       "    .dataframe thead th {\n",
       "        text-align: right;\n",
       "    }\n",
       "</style>\n",
       "<table border=\"1\" class=\"dataframe\">\n",
       "  <thead>\n",
       "    <tr style=\"text-align: right;\">\n",
       "      <th></th>\n",
       "      <th>medal_date</th>\n",
       "      <th>medal_type</th>\n",
       "      <th>medal_code</th>\n",
       "      <th>name</th>\n",
       "      <th>gender</th>\n",
       "      <th>country_code</th>\n",
       "      <th>country</th>\n",
       "      <th>country_long</th>\n",
       "      <th>nationality_code</th>\n",
       "      <th>nationality</th>\n",
       "      <th>...</th>\n",
       "      <th>team_gender</th>\n",
       "      <th>discipline</th>\n",
       "      <th>event</th>\n",
       "      <th>event_type</th>\n",
       "      <th>url_event</th>\n",
       "      <th>birth_date</th>\n",
       "      <th>code_athlete</th>\n",
       "      <th>code_team</th>\n",
       "      <th>is_medallist</th>\n",
       "      <th>age</th>\n",
       "    </tr>\n",
       "  </thead>\n",
       "  <tbody>\n",
       "    <tr>\n",
       "      <th>432</th>\n",
       "      <td>2024-08-06</td>\n",
       "      <td>Gold Medal</td>\n",
       "      <td>1.0</td>\n",
       "      <td>TREW Arisa</td>\n",
       "      <td>Female</td>\n",
       "      <td>AUS</td>\n",
       "      <td>Australia</td>\n",
       "      <td>Australia</td>\n",
       "      <td>AUS</td>\n",
       "      <td>Australia</td>\n",
       "      <td>...</td>\n",
       "      <td>NaN</td>\n",
       "      <td>Skateboarding</td>\n",
       "      <td>Women's Park</td>\n",
       "      <td>ATH</td>\n",
       "      <td>/en/paris-2024/results/skateboarding/women-s-p...</td>\n",
       "      <td>2010-05-12</td>\n",
       "      <td>1946064</td>\n",
       "      <td>NaN</td>\n",
       "      <td>True</td>\n",
       "      <td>14</td>\n",
       "    </tr>\n",
       "  </tbody>\n",
       "</table>\n",
       "<p>1 rows × 22 columns</p>\n",
       "</div>"
      ],
      "text/plain": [
       "    medal_date  medal_type  medal_code        name  gender country_code  \\\n",
       "432 2024-08-06  Gold Medal         1.0  TREW Arisa  Female          AUS   \n",
       "\n",
       "       country country_long nationality_code nationality  ... team_gender  \\\n",
       "432  Australia    Australia              AUS   Australia  ...         NaN   \n",
       "\n",
       "        discipline         event event_type  \\\n",
       "432  Skateboarding  Women's Park        ATH   \n",
       "\n",
       "                                             url_event birth_date  \\\n",
       "432  /en/paris-2024/results/skateboarding/women-s-p... 2010-05-12   \n",
       "\n",
       "    code_athlete code_team  is_medallist age  \n",
       "432      1946064       NaN          True  14  \n",
       "\n",
       "[1 rows x 22 columns]"
      ]
     },
     "execution_count": 21,
     "metadata": {},
     "output_type": "execute_result"
    }
   ],
   "source": [
    "data[data['age'] == data['age'].min()]"
   ]
  },
  {
   "cell_type": "code",
   "execution_count": 22,
   "id": "0c085729",
   "metadata": {
    "scrolled": true
   },
   "outputs": [
    {
     "data": {
      "text/html": [
       "<div>\n",
       "<style scoped>\n",
       "    .dataframe tbody tr th:only-of-type {\n",
       "        vertical-align: middle;\n",
       "    }\n",
       "\n",
       "    .dataframe tbody tr th {\n",
       "        vertical-align: top;\n",
       "    }\n",
       "\n",
       "    .dataframe thead th {\n",
       "        text-align: right;\n",
       "    }\n",
       "</style>\n",
       "<table border=\"1\" class=\"dataframe\">\n",
       "  <thead>\n",
       "    <tr style=\"text-align: right;\">\n",
       "      <th></th>\n",
       "      <th>medal_date</th>\n",
       "      <th>medal_type</th>\n",
       "      <th>medal_code</th>\n",
       "      <th>name</th>\n",
       "      <th>gender</th>\n",
       "      <th>country_code</th>\n",
       "      <th>country</th>\n",
       "      <th>country_long</th>\n",
       "      <th>nationality_code</th>\n",
       "      <th>nationality</th>\n",
       "      <th>...</th>\n",
       "      <th>team_gender</th>\n",
       "      <th>discipline</th>\n",
       "      <th>event</th>\n",
       "      <th>event_type</th>\n",
       "      <th>url_event</th>\n",
       "      <th>birth_date</th>\n",
       "      <th>code_athlete</th>\n",
       "      <th>code_team</th>\n",
       "      <th>is_medallist</th>\n",
       "      <th>age</th>\n",
       "    </tr>\n",
       "  </thead>\n",
       "  <tbody>\n",
       "    <tr>\n",
       "      <th>1126</th>\n",
       "      <td>2024-08-02</td>\n",
       "      <td>Silver Medal</td>\n",
       "      <td>2.0</td>\n",
       "      <td>KRAUT Laura</td>\n",
       "      <td>Female</td>\n",
       "      <td>USA</td>\n",
       "      <td>United States</td>\n",
       "      <td>United States of America</td>\n",
       "      <td>USA</td>\n",
       "      <td>United States</td>\n",
       "      <td>...</td>\n",
       "      <td>O</td>\n",
       "      <td>Equestrian</td>\n",
       "      <td>Jumping Team</td>\n",
       "      <td>TEAM</td>\n",
       "      <td>/en/paris-2024/results/equestrian/jumping-team...</td>\n",
       "      <td>1965-11-14</td>\n",
       "      <td>1951840</td>\n",
       "      <td>EQUOJUMPTEAMUSA01</td>\n",
       "      <td>True</td>\n",
       "      <td>59</td>\n",
       "    </tr>\n",
       "  </tbody>\n",
       "</table>\n",
       "<p>1 rows × 22 columns</p>\n",
       "</div>"
      ],
      "text/plain": [
       "     medal_date    medal_type  medal_code         name  gender country_code  \\\n",
       "1126 2024-08-02  Silver Medal         2.0  KRAUT Laura  Female          USA   \n",
       "\n",
       "            country              country_long nationality_code    nationality  \\\n",
       "1126  United States  United States of America              USA  United States   \n",
       "\n",
       "      ... team_gender  discipline         event event_type  \\\n",
       "1126  ...           O  Equestrian  Jumping Team       TEAM   \n",
       "\n",
       "                                              url_event birth_date  \\\n",
       "1126  /en/paris-2024/results/equestrian/jumping-team... 1965-11-14   \n",
       "\n",
       "     code_athlete          code_team  is_medallist age  \n",
       "1126      1951840  EQUOJUMPTEAMUSA01          True  59  \n",
       "\n",
       "[1 rows x 22 columns]"
      ]
     },
     "execution_count": 22,
     "metadata": {},
     "output_type": "execute_result"
    }
   ],
   "source": [
    "data[data['age'] == data['age'].max()]"
   ]
  },
  {
   "cell_type": "code",
   "execution_count": null,
   "id": "21716ca7",
   "metadata": {},
   "outputs": [],
   "source": []
  }
 ],
 "metadata": {
  "kernelspec": {
   "display_name": "Python 3 (ipykernel)",
   "language": "python",
   "name": "python3"
  },
  "language_info": {
   "codemirror_mode": {
    "name": "ipython",
    "version": 3
   },
   "file_extension": ".py",
   "mimetype": "text/x-python",
   "name": "python",
   "nbconvert_exporter": "python",
   "pygments_lexer": "ipython3",
   "version": "3.11.5"
  }
 },
 "nbformat": 4,
 "nbformat_minor": 5
}
